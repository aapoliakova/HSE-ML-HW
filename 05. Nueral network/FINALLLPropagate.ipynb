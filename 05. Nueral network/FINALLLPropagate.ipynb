{
 "cells": [
  {
   "cell_type": "code",
   "execution_count": 3,
   "id": "speaking-sight",
   "metadata": {},
   "outputs": [],
   "source": [
    "import numpy as np"
   ]
  },
  {
   "cell_type": "code",
   "execution_count": 4,
   "id": "rational-spending",
   "metadata": {},
   "outputs": [],
   "source": [
    "def sigmoid(z):\n",
    "    \"\"\"The sigmoid function.\"\"\"\n",
    "    return 1.0/(1.0+np.exp(-z))\n",
    "\n",
    "def sigmoid_prime(z):\n",
    "    \"\"\"Derivative of the sigmoid function.\"\"\"\n",
    "    return sigmoid(z)*(1-sigmoid(z))"
   ]
  },
  {
   "cell_type": "code",
   "execution_count": 44,
   "id": "clear-florence",
   "metadata": {},
   "outputs": [],
   "source": [
    "Network = [4, 3, 2]\n",
    "x = np.arange(4).reshape(4, 1)\n",
    "n_layers = len(Network)"
   ]
  },
  {
   "cell_type": "code",
   "execution_count": 43,
   "id": "active-perry",
   "metadata": {},
   "outputs": [],
   "source": [
    "# self.weights, self.activation, self.bias, self.z, self.derivative, self.deltas "
   ]
  },
  {
   "cell_type": "code",
   "execution_count": null,
   "id": "hourly-relaxation",
   "metadata": {},
   "outputs": [],
   "source": [
    "# 1. forrward propogate --- self.activation "
   ]
  },
  {
   "cell_type": "code",
   "execution_count": 244,
   "id": "sapphire-small",
   "metadata": {},
   "outputs": [
    {
     "name": "stdout",
     "output_type": "stream",
     "text": [
      "None\n",
      "\n",
      "[[0.22423587 0.62930027 0.01575724 0.79398696]\n",
      " [0.42939263 0.87917983 0.64310596 0.54329565]\n",
      " [0.99130258 0.16584911 0.05937874 0.79392508]]\n",
      "\n",
      "[[0.14959683 0.33589773 0.8729455 ]\n",
      " [0.93016295 0.55417348 0.23478442]]\n",
      "\n"
     ]
    }
   ],
   "source": [
    "Network = [4, 3, 2]\n",
    "n_layers = len(Network)\n",
    "weights = [np.random.rand(Network[i + 1], Network[i]) for i in range(n_layers - 1)]\n",
    "weights.insert(0, None)\n",
    "bias = [np.random.rand(Network[i + 1], 1) for i in range(n_layers - 1)]\n",
    "bias.insert(0, None)\n",
    "for i in weights:\n",
    "    print(i)\n",
    "    print()"
   ]
  },
  {
   "cell_type": "code",
   "execution_count": 204,
   "id": "legal-drawing",
   "metadata": {},
   "outputs": [
    {
     "ename": "TypeError",
     "evalue": "object of type 'NoneType' has no len()",
     "output_type": "error",
     "traceback": [
      "\u001b[0;31m---------------------------------------------------------------------------\u001b[0m",
      "\u001b[0;31mTypeError\u001b[0m                                 Traceback (most recent call last)",
      "\u001b[0;32m<ipython-input-204-b696e8d65695>\u001b[0m in \u001b[0;36m<module>\u001b[0;34m\u001b[0m\n\u001b[0;32m----> 1\u001b[0;31m \u001b[0mlen\u001b[0m\u001b[0;34m(\u001b[0m\u001b[0mweights\u001b[0m\u001b[0;34m)\u001b[0m\u001b[0;34m\u001b[0m\u001b[0;34m\u001b[0m\u001b[0m\n\u001b[0m",
      "\u001b[0;31mTypeError\u001b[0m: object of type 'NoneType' has no len()"
     ]
    }
   ],
   "source": []
  },
  {
   "cell_type": "code",
   "execution_count": null,
   "id": "lined-battery",
   "metadata": {},
   "outputs": [],
   "source": []
  },
  {
   "cell_type": "code",
   "execution_count": null,
   "id": "familiar-earth",
   "metadata": {},
   "outputs": [],
   "source": []
  },
  {
   "cell_type": "code",
   "execution_count": 127,
   "id": "atomic-battle",
   "metadata": {},
   "outputs": [
    {
     "data": {
      "text/plain": [
       "[array([[0],\n",
       "        [1],\n",
       "        [2],\n",
       "        [3]])]"
      ]
     },
     "execution_count": 127,
     "metadata": {},
     "output_type": "execute_result"
    }
   ],
   "source": [
    "activation = [np.array(x)]\n",
    "activation # W"
   ]
  },
  {
   "cell_type": "code",
   "execution_count": 216,
   "id": "separate-witch",
   "metadata": {},
   "outputs": [
    {
     "data": {
      "text/plain": [
       "[array([[0],\n",
       "        [1],\n",
       "        [2],\n",
       "        [3]]),\n",
       " array([[0.93921099],\n",
       "        [0.9530413 ],\n",
       "        [0.99363811]]),\n",
       " array([[0.75669154],\n",
       "        [0.81724191]])]"
      ]
     },
     "execution_count": 216,
     "metadata": {},
     "output_type": "execute_result"
    }
   ],
   "source": [
    "def propogate_forward(x, Network, weights, bias):\n",
    "    # # Feedforward: For each l=2,3,…,L compute zl=wlal−1+bl and al=σ(zl).\n",
    "    activation = [np.array(x)]\n",
    "    z = [None]\n",
    "    for i in range(1, n_layers):           \n",
    "        z_i = np.dot(weights[i], activation[i - 1])\n",
    "        z.append(z_i)\n",
    "        activation_i = sigmoid(z_i) # activation function \n",
    "        activation.append(activation_i)\n",
    "    return activation, z\n",
    "\n",
    "        \n",
    "activation, z = propogate_forward(x, Network, weights, bias)\n",
    "activation"
   ]
  },
  {
   "cell_type": "code",
   "execution_count": 217,
   "id": "auburn-doctor",
   "metadata": {},
   "outputs": [
    {
     "data": {
      "text/plain": [
       "[array([[0],\n",
       "        [1],\n",
       "        [2],\n",
       "        [3]]),\n",
       " array([[0.93921099],\n",
       "        [0.9530413 ],\n",
       "        [0.99363811]]),\n",
       " array([[13.93140667],\n",
       "        [12.20612678]])]"
      ]
     },
     "execution_count": 217,
     "metadata": {},
     "output_type": "execute_result"
    }
   ],
   "source": [
    "# Output error δL: Compute the vector δL=∇aC⊙σ′(zL).\n",
    "delta = np.copy(activation).tolist()\n",
    "last = n_layers - 1\n",
    "delta[last] = activation[last] * sigmoid_prime(z[last])*100 # last delta \n",
    "delta"
   ]
  },
  {
   "cell_type": "code",
   "execution_count": 229,
   "id": "artificial-barbados",
   "metadata": {},
   "outputs": [
    {
     "data": {
      "text/plain": [
       "[array([[0],\n",
       "        [1],\n",
       "        [2],\n",
       "        [3]]),\n",
       " array([[0.75647468],\n",
       "        [0.52172294],\n",
       "        [0.06701875]]),\n",
       " array([[13.93140667],\n",
       "        [12.20612678]])]"
      ]
     },
     "execution_count": 229,
     "metadata": {},
     "output_type": "execute_result"
    }
   ],
   "source": [
    "for layer in range(last-1, 0, -1):\n",
    "    delta[layer] = np.dot(weights[layer + 1].T, delta[layer + 1]) * sigmoid_prime(z[layer])\n",
    "delta"
   ]
  },
  {
   "cell_type": "code",
   "execution_count": 242,
   "id": "perceived-arcade",
   "metadata": {},
   "outputs": [
    {
     "data": {
      "text/plain": [
       "[None,\n",
       " array([[0.33929472, 0.24190475, 0.8900286 , 0.23855637],\n",
       "        [0.43189484, 0.22946939, 0.04327296, 0.89812485],\n",
       "        [0.49140208, 0.98858734, 0.93271727, 0.73234176]]),\n",
       " array([[0.69515934, 0.27001539, 0.22582522],\n",
       "        [0.29207915, 0.64688721, 0.61082357]])]"
      ]
     },
     "execution_count": 242,
     "metadata": {},
     "output_type": "execute_result"
    }
   ],
   "source": [
    "weights_grad = np.copy(weights)\n",
    "bias_grad = np.copy(bias)\n",
    "for layer in range(last, 0, -1):\n",
    "    weights_grad[layer] = np.dot(delta[layer], activation[layer-1].T)\n",
    "    bias_grad[layer] = delta[layer]\n",
    "weights   "
   ]
  },
  {
   "cell_type": "code",
   "execution_count": 245,
   "id": "increasing-audio",
   "metadata": {},
   "outputs": [],
   "source": [
    "alpha = 0.01\n",
    "for layer in range(last, 0, -1):\n",
    "    weights[layer] += alpha * weights_grad[layer]\n",
    "    bias[layer] += alpha * bias_grad[layer]\n",
    "    "
   ]
  },
  {
   "cell_type": "code",
   "execution_count": 246,
   "id": "ready-christian",
   "metadata": {},
   "outputs": [
    {
     "data": {
      "text/plain": [
       "[None,\n",
       " array([[0.22423587, 0.63686501, 0.03088673, 0.8166812 ],\n",
       "        [0.42939263, 0.88439705, 0.65354041, 0.55894734],\n",
       "        [0.99130258, 0.1665193 , 0.06071912, 0.79593564]]),\n",
       " array([[0.28044213, 0.46866979, 1.01137326],\n",
       "        [1.04480424, 0.67050291, 0.35606914]])]"
      ]
     },
     "execution_count": 246,
     "metadata": {},
     "output_type": "execute_result"
    }
   ],
   "source": [
    "weights"
   ]
  },
  {
   "cell_type": "code",
   "execution_count": 266,
   "id": "isolated-catering",
   "metadata": {},
   "outputs": [
    {
     "data": {
      "text/plain": [
       "[None,\n",
       " array([[0.22423587, 0.63686501, 0.03088673, 0.8166812 ],\n",
       "        [0.42939263, 0.88439705, 0.65354041, 0.55894734],\n",
       "        [0.99130258, 0.1665193 , 0.06071912, 0.79593564]]),\n",
       " array([[0.28044213, 0.46866979, 1.01137326],\n",
       "        [1.04480424, 0.67050291, 0.35606914]])]"
      ]
     },
     "execution_count": 266,
     "metadata": {},
     "output_type": "execute_result"
    }
   ],
   "source": [
    "def init_all():\n",
    "    Network = [8, 3, 2, 1]\n",
    "    x = np.arange(8).reshape(8, 1)\n",
    "    n_layers = len(Network)\n",
    "    weights = [np.random.rand(Network[i + 1], Network[i]) for i in range(n_layers - 1)]\n",
    "    weights.insert(0, None)\n",
    "    bias = [np.random.rand(Network[i + 1], 1) for i in range(n_layers - 1)]\n",
    "    bias.insert(0, None)\n",
    "init_all()\n",
    "weights"
   ]
  },
  {
   "cell_type": "code",
   "execution_count": 264,
   "id": "environmental-triple",
   "metadata": {},
   "outputs": [
    {
     "ename": "ValueError",
     "evalue": "shapes (3,4) and (8,1) not aligned: 4 (dim 1) != 8 (dim 0)",
     "output_type": "error",
     "traceback": [
      "\u001b[0;31m---------------------------------------------------------------------------\u001b[0m",
      "\u001b[0;31mValueError\u001b[0m                                Traceback (most recent call last)",
      "\u001b[0;32m<ipython-input-264-07506156f9ce>\u001b[0m in \u001b[0;36m<module>\u001b[0;34m\u001b[0m\n\u001b[1;32m      9\u001b[0m         \u001b[0mactivation\u001b[0m\u001b[0;34m.\u001b[0m\u001b[0mappend\u001b[0m\u001b[0;34m(\u001b[0m\u001b[0mactivation_i\u001b[0m\u001b[0;34m)\u001b[0m\u001b[0;34m\u001b[0m\u001b[0;34m\u001b[0m\u001b[0m\n\u001b[1;32m     10\u001b[0m     \u001b[0;32mreturn\u001b[0m \u001b[0mactivation\u001b[0m\u001b[0;34m,\u001b[0m \u001b[0mz\u001b[0m\u001b[0;34m\u001b[0m\u001b[0;34m\u001b[0m\u001b[0m\n\u001b[0;32m---> 11\u001b[0;31m \u001b[0mactivation\u001b[0m\u001b[0;34m,\u001b[0m \u001b[0mz\u001b[0m \u001b[0;34m=\u001b[0m \u001b[0mpropogate_forward\u001b[0m\u001b[0;34m(\u001b[0m\u001b[0mx\u001b[0m\u001b[0;34m,\u001b[0m \u001b[0mNetwork\u001b[0m\u001b[0;34m,\u001b[0m \u001b[0mweights\u001b[0m\u001b[0;34m,\u001b[0m \u001b[0mbias\u001b[0m\u001b[0;34m)\u001b[0m\u001b[0;34m\u001b[0m\u001b[0;34m\u001b[0m\u001b[0m\n\u001b[0m",
      "\u001b[0;32m<ipython-input-264-07506156f9ce>\u001b[0m in \u001b[0;36mpropogate_forward\u001b[0;34m(x, Network, weights, bias)\u001b[0m\n\u001b[1;32m      4\u001b[0m     \u001b[0mz\u001b[0m \u001b[0;34m=\u001b[0m \u001b[0;34m[\u001b[0m\u001b[0;32mNone\u001b[0m\u001b[0;34m]\u001b[0m\u001b[0;34m\u001b[0m\u001b[0;34m\u001b[0m\u001b[0m\n\u001b[1;32m      5\u001b[0m     \u001b[0;32mfor\u001b[0m \u001b[0mi\u001b[0m \u001b[0;32min\u001b[0m \u001b[0mrange\u001b[0m\u001b[0;34m(\u001b[0m\u001b[0;36m1\u001b[0m\u001b[0;34m,\u001b[0m \u001b[0mn_layers\u001b[0m\u001b[0;34m)\u001b[0m\u001b[0;34m:\u001b[0m\u001b[0;34m\u001b[0m\u001b[0;34m\u001b[0m\u001b[0m\n\u001b[0;32m----> 6\u001b[0;31m         \u001b[0mz_i\u001b[0m \u001b[0;34m=\u001b[0m \u001b[0mnp\u001b[0m\u001b[0;34m.\u001b[0m\u001b[0mdot\u001b[0m\u001b[0;34m(\u001b[0m\u001b[0mweights\u001b[0m\u001b[0;34m[\u001b[0m\u001b[0mi\u001b[0m\u001b[0;34m]\u001b[0m\u001b[0;34m,\u001b[0m \u001b[0mactivation\u001b[0m\u001b[0;34m[\u001b[0m\u001b[0mi\u001b[0m \u001b[0;34m-\u001b[0m \u001b[0;36m1\u001b[0m\u001b[0;34m]\u001b[0m\u001b[0;34m)\u001b[0m\u001b[0;34m\u001b[0m\u001b[0;34m\u001b[0m\u001b[0m\n\u001b[0m\u001b[1;32m      7\u001b[0m         \u001b[0mz\u001b[0m\u001b[0;34m.\u001b[0m\u001b[0mappend\u001b[0m\u001b[0;34m(\u001b[0m\u001b[0mz_i\u001b[0m\u001b[0;34m)\u001b[0m\u001b[0;34m\u001b[0m\u001b[0;34m\u001b[0m\u001b[0m\n\u001b[1;32m      8\u001b[0m         \u001b[0mactivation_i\u001b[0m \u001b[0;34m=\u001b[0m \u001b[0msigmoid\u001b[0m\u001b[0;34m(\u001b[0m\u001b[0mz_i\u001b[0m\u001b[0;34m)\u001b[0m \u001b[0;31m# activation function\u001b[0m\u001b[0;34m\u001b[0m\u001b[0;34m\u001b[0m\u001b[0m\n",
      "\u001b[0;32m<__array_function__ internals>\u001b[0m in \u001b[0;36mdot\u001b[0;34m(*args, **kwargs)\u001b[0m\n",
      "\u001b[0;31mValueError\u001b[0m: shapes (3,4) and (8,1) not aligned: 4 (dim 1) != 8 (dim 0)"
     ]
    }
   ],
   "source": [
    "def propogate_forward(x, Network, weights, bias):\n",
    "    # # Feedforward: For each l=2,3,…,L compute zl=wlal−1+bl and al=σ(zl).\n",
    "    activation = [np.array(x)]\n",
    "    z = [None]\n",
    "    \n",
    "    for i in range(1, n_layers):           \n",
    "        z_i = np.dot(weights[i], activation[i - 1])\n",
    "        z.append(z_i)\n",
    "        activation_i = sigmoid(z_i) # activation function \n",
    "        activation.append(activation_i)\n",
    "    return activation, z\n",
    "activation, z = propogate_forward(x, Network, weights, bias)"
   ]
  },
  {
   "cell_type": "code",
   "execution_count": 289,
   "id": "thousand-clearance",
   "metadata": {},
   "outputs": [],
   "source": [
    "def propogate_back(weights, bias):\n",
    "    \n",
    "    # Calculate deltas \n",
    "    delta = np.copy(activation).tolist()\n",
    "    last = n_layers - 1\n",
    "    delta[last] = activation[last] * sigmoid_prime(z[last]) \n",
    "    for layer in range(last-1, 0, -1):\n",
    "        delta[layer] = np.dot(weights[layer + 1].T, delta[layer + 1]) * sigmoid_prime(z[layer])\n",
    "    \n",
    "    # Calculate gradients\n",
    "    weights_grad = np.copy(weights)\n",
    "    bias_grad = np.copy(bias)\n",
    "    \n",
    "    for layer in range(last, 0, -1):\n",
    "        weights_grad[layer] = np.dot(delta[layer], activation[layer-1].T)\n",
    "        bias_grad[layer] = delta[layer]\n",
    "    return weights_grad, bias_grad\n",
    "        "
   ]
  },
  {
   "cell_type": "code",
   "execution_count": 260,
   "id": "mediterranean-newman",
   "metadata": {},
   "outputs": [],
   "source": [
    "def Gradient_descent():\n",
    "    # Update weights \n",
    "        alpha = 0.01\n",
    "        for layer in range(last, 0, -1):\n",
    "            weights[layer] += alpha * weights_grad[layer]\n",
    "            bias[layer] += alpha * bias_grad[layer]\n",
    "    \n"
   ]
  },
  {
   "cell_type": "code",
   "execution_count": 286,
   "id": "appropriate-teach",
   "metadata": {},
   "outputs": [
    {
     "data": {
      "text/plain": [
       "array([[0, 1],\n",
       "       [2, 3],\n",
       "       [4, 5],\n",
       "       [6, 7]])"
      ]
     },
     "execution_count": 286,
     "metadata": {},
     "output_type": "execute_result"
    }
   ],
   "source": [
    "in_features, out_features = 2, 4\n",
    "x = np.arange(8).reshape(4, 2)\n",
    "x"
   ]
  },
  {
   "cell_type": "code",
   "execution_count": 290,
   "id": "annual-colorado",
   "metadata": {},
   "outputs": [
    {
     "data": {
      "text/plain": [
       "((4, 1), (4, 2), (4, 2))"
      ]
     },
     "execution_count": 290,
     "metadata": {},
     "output_type": "execute_result"
    }
   ],
   "source": [
    "scale = 1 / np.sqrt(in_features)\n",
    "W = np.random.uniform(-scale, scale, (in_features, out_features))\n",
    "b = np.zeros((1, out_features))\n",
    "b.T.shape, W.T.shape, x.shape"
   ]
  },
  {
   "cell_type": "code",
   "execution_count": 301,
   "id": "legitimate-chemistry",
   "metadata": {},
   "outputs": [
    {
     "name": "stdout",
     "output_type": "stream",
     "text": [
      "[ 0.1878253   0.44682959 -0.68614078 -0.5311421 ]\n",
      "-0.14565699995811413\n",
      "[ 0.53450605  0.70464654 -0.41298305  0.53513272]\n",
      "0.34032556308674594\n"
     ]
    }
   ],
   "source": [
    "# Получается что нейронка считается для каждого трейнинг сэмпла отдельно \n",
    "# на вход дается всегда одна пара  (x1, x2)\n",
    "# но мы можем посчитать активации сразу для всех\n",
    "for i in W:\n",
    "    curr = np.mean(i)\n",
    "    print(i)\n",
    "    print(curr)"
   ]
  },
  {
   "cell_type": "code",
   "execution_count": 309,
   "id": "surface-mitchell",
   "metadata": {},
   "outputs": [
    {
     "data": {
      "text/plain": [
       "[0, 1, 2, 3, 4, 5, 6, 7, 8, 9]"
      ]
     },
     "execution_count": 309,
     "metadata": {},
     "output_type": "execute_result"
    }
   ],
   "source": [
    "# a = [i for i in range(10)]\n",
    "a = [0] + [i for i in range(1, 10)]\n",
    "a"
   ]
  },
  {
   "cell_type": "code",
   "execution_count": null,
   "id": "illegal-visit",
   "metadata": {},
   "outputs": [],
   "source": [
    "# Generate weights and bias:\n",
    "coef_init = self._random_state.uniform(-init_bound, init_bound,\n",
    "                                       (fan_in, fan_out))\n",
    "intercept_init = self._random_state.uniform(-init_bound, init_bound,\n",
    "                                            fan_out)"
   ]
  },
  {
   "cell_type": "code",
   "execution_count": 315,
   "id": "parallel-acceptance",
   "metadata": {},
   "outputs": [
    {
     "data": {
      "text/plain": [
       "(3, 2)"
      ]
     },
     "execution_count": 315,
     "metadata": {},
     "output_type": "execute_result"
    }
   ],
   "source": [
    "a = np.array([[1, 2],\n",
    "              [3, 4],\n",
    "              [2, 2]])\n",
    "a.shape\n",
    "# 2.5\n",
    "np.mean(a, axis=0) # Среднее по столбцам = dim = n_samples"
   ]
  },
  {
   "cell_type": "code",
   "execution_count": 316,
   "id": "monthly-celebrity",
   "metadata": {},
   "outputs": [
    {
     "data": {
      "text/plain": [
       "array([2.        , 2.66666667])"
      ]
     },
     "execution_count": 316,
     "metadata": {},
     "output_type": "execute_result"
    }
   ],
   "source": [
    "np.mean(a, axis=0)"
   ]
  },
  {
   "cell_type": "code",
   "execution_count": 318,
   "id": "overhead-taxation",
   "metadata": {},
   "outputs": [
    {
     "data": {
      "text/plain": [
       "(3,)"
      ]
     },
     "execution_count": 318,
     "metadata": {},
     "output_type": "execute_result"
    }
   ],
   "source": [
    "np.mean(a, axis=1) # dim = колву строк "
   ]
  },
  {
   "cell_type": "code",
   "execution_count": 327,
   "id": "synthetic-voice",
   "metadata": {},
   "outputs": [
    {
     "data": {
      "text/plain": [
       "(3, 3)"
      ]
     },
     "execution_count": 327,
     "metadata": {},
     "output_type": "execute_result"
    }
   ],
   "source": [
    "weights = np.arange(15).reshape(3, 5) # Веса\n",
    "X = np.arange(15).reshape(5, 3) # 5 наблюдений по три фичи\n",
    "activation = weights @ X\n",
    "activation.shape # 3 нейрона для каждого наблюдения в колонках"
   ]
  },
  {
   "cell_type": "code",
   "execution_count": 331,
   "id": "rational-craft",
   "metadata": {},
   "outputs": [
    {
     "data": {
      "text/plain": [
       "(array([[ 9. , 10. , 11. ],\n",
       "        [24. , 27.5, 31. ],\n",
       "        [39. , 45. , 51. ]]),\n",
       " array([[ 90, 100, 110],\n",
       "        [240, 275, 310],\n",
       "        [390, 450, 510]]))"
      ]
     },
     "execution_count": 331,
     "metadata": {},
     "output_type": "execute_result"
    }
   ],
   "source": [
    "grad = 0.1 * np.copy(activation)\n",
    "grad, activation"
   ]
  },
  {
   "cell_type": "code",
   "execution_count": 334,
   "id": "innovative-alcohol",
   "metadata": {},
   "outputs": [
    {
     "data": {
      "text/plain": [
       "(3, 5)"
      ]
     },
     "execution_count": 334,
     "metadata": {},
     "output_type": "execute_result"
    }
   ],
   "source": [
    "weights.shape"
   ]
  },
  {
   "cell_type": "code",
   "execution_count": 346,
   "id": "scenic-event",
   "metadata": {},
   "outputs": [
    {
     "data": {
      "text/plain": [
       "((2, 3), (3, 3))"
      ]
     },
     "execution_count": 346,
     "metadata": {},
     "output_type": "execute_result"
    }
   ],
   "source": [
    "# (a_L - y) * sigmoid(activation)\n",
    "weights_1 = np.arange(6).reshape(2, 3)\n",
    "weights_1.shape, activation.shape"
   ]
  },
  {
   "cell_type": "code",
   "execution_count": 347,
   "id": "million-index",
   "metadata": {},
   "outputs": [
    {
     "data": {
      "text/plain": [
       "array([[1020, 1175, 1330],\n",
       "       [3180, 3650, 4120]])"
      ]
     },
     "execution_count": 347,
     "metadata": {},
     "output_type": "execute_result"
    }
   ],
   "source": [
    "weights_1 @ activation # 1 layer activation"
   ]
  },
  {
   "cell_type": "code",
   "execution_count": null,
   "id": "filled-commonwealth",
   "metadata": {},
   "outputs": [],
   "source": []
  }
 ],
 "metadata": {
  "kernelspec": {
   "display_name": "Python 3",
   "language": "python",
   "name": "python3"
  },
  "language_info": {
   "codemirror_mode": {
    "name": "ipython",
    "version": 3
   },
   "file_extension": ".py",
   "mimetype": "text/x-python",
   "name": "python",
   "nbconvert_exporter": "python",
   "pygments_lexer": "ipython3",
   "version": "3.8.8"
  }
 },
 "nbformat": 4,
 "nbformat_minor": 5
}
