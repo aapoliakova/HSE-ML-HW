{
 "cells": [],
 "metadata": {
  "kernelspec": {
   "display_name": "Python 3",
   "language": "python",
   "name": "python3"
  },
  "language_info": {
   "codemirror_mode": {
    "name": "ipython",
    "version": 3
   },
   "file_extension": ".py",
   "mimetype": "text/x-python",
   "name": "python",
   "nbconvert_exporter": "python",
   "pygments_lexer": "ipython3",
   "version": "3.8.8"
  },
  "pycharm": {
   "stem_cell": {
    "cell_type": "raw",
    "source": [
     "from sklearn.model_selection import train_test_split\n",
     "import numpy as np\n",
     "import pandas\n",
     "import random\n",
     "from scipy.stats import mode\n",
     "import matplotlib.pyplot as plt\n",
     "import matplotlib\n",
     "import copy\n",
     "from catboost import CatBoostClassifier\n"
    ],
    "metadata": {
     "collapsed": false
    }
   }
  }
 },
 "nbformat": 4,
 "nbformat_minor": 5
}