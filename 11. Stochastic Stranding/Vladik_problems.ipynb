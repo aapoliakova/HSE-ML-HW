{
 "cells": [
  {
   "cell_type": "code",
   "execution_count": 17,
   "outputs": [],
   "source": [
    "import numpy as np\n",
    "import pandas\n",
    "import random\n",
    "from typing import Callable\n",
    "import matplotlib.pyplot as plt\n",
    "from itertools import combinations\n",
    "from matplotlib import animation, rc\n",
    "from IPython.display import HTML\n",
    "import matplotlib\n",
    "import copy\n",
    "from scipy.spatial import distance_matrix\n",
    "from typing import Tuple, List"
   ],
   "metadata": {
    "collapsed": false,
    "pycharm": {
     "name": "#%%\n"
    }
   }
  },
  {
   "cell_type": "code",
   "execution_count": 13,
   "outputs": [
    {
     "data": {
      "text/plain": "array([[0, 3, 4, 5],\n       [3, 0, 5, 3],\n       [4, 5, 0, 4],\n       [5, 3, 4, 0]])"
     },
     "execution_count": 13,
     "metadata": {},
     "output_type": "execute_result"
    },
    {
     "data": {
      "text/plain": "<Figure size 432x288 with 1 Axes>",
      "image/png": "[encoded data removed]"
     },
     "metadata": {
      "needs_background": "light"
     },
     "output_type": "display_data"
    }
   ],
   "source": [
    "points = np.array([[0, 0], [0, 3], [4, 0], [3, 4]]) + np.array([1, 1])\n",
    "plt.scatter(points[:, 0], points[:, 1]);\n",
    "points\n",
    "distance_matrix(points, points).astype(int)\n"
   ],
   "metadata": {
    "collapsed": false,
    "pycharm": {
     "name": "#%%\n"
    }
   }
  },
  {
   "cell_type": "code",
   "execution_count": null,
   "outputs": [],
   "source": [],
   "metadata": {
    "collapsed": false,
    "pycharm": {
     "name": "#%%\n"
    }
   }
  },
  {
   "cell_type": "code",
   "execution_count": 51,
   "outputs": [
    {
     "data": {
      "text/plain": "[(0, 1), (0, 2), (0, 3), (1, 2), (1, 3), (2, 3)]"
     },
     "execution_count": 51,
     "metadata": {},
     "output_type": "execute_result"
    }
   ],
   "source": [
    "n_cities, _ = points.shape\n",
    "list(combinations(np.arange(n_cities), 2))"
   ],
   "metadata": {
    "collapsed": false,
    "pycharm": {
     "name": "#%%\n"
    }
   }
  },
  {
   "cell_type": "code",
   "execution_count": 65,
   "outputs": [
    {
     "name": "stdout",
     "output_type": "stream",
     "text": [
      "(2, 0, 3, 1)\n",
      "(2, 0)\n",
      "(2, 1)\n",
      "(3, 1)\n"
     ]
    }
   ],
   "source": [
    "# Получаем какую то перестановку берем по две точки, меняем их местами\n",
    "from itertools import permutations\n",
    "\n",
    "# Get all permutations of [1, 2, 3]\n",
    "perm = list(permutations(np.arange(n_cities)))[13]\n",
    "print(perm)\n",
    "for i, j in list(combinations(perm, 2)):\n",
    "    if i > j:\n",
    "        print((i, j))"
   ],
   "metadata": {
    "collapsed": false,
    "pycharm": {
     "name": "#%%\n"
    }
   }
  },
  {
   "cell_type": "code",
   "execution_count": 14,
   "outputs": [],
   "source": [
    "def cyclic_distance(points: np.ndarray, dist: Callable) -> float:\n",
    "    points_to = np.roll(points, 1, axis=0)\n",
    "    return dist(points, points_to).sum()\n",
    "\n",
    "def l2_distance(p1: np.ndarray, p2: np.ndarray) -> float:\n",
    "    diff = p1 - p2\n",
    "    return np.sqrt(diff.dot(diff))\n",
    "\n",
    "def l1_distance(p1: np.ndarray, p2: np.ndarray) -> float:\n",
    "    return np.sum(np.abs(p2 - p1))"
   ],
   "metadata": {
    "collapsed": false,
    "pycharm": {
     "name": "#%%\n"
    }
   }
  },
  {
   "cell_type": "code",
   "execution_count": 19,
   "outputs": [],
   "source": [
    "class HillClimb:\n",
    "    def __init__(self, max_iterations, dist):\n",
    "        self.max_iterations = max_iterations\n",
    "        self.dist = dist # Do not change\n",
    "\n",
    "    def optimize(self, points) -> np.ndarray:\n",
    "        return self.optimize_explain(points)[-1] # Возвращает путь коми в обратном порядке\n",
    "\n",
    "    def optimize_explain(self, points: np.ndarray) -> List[np.ndarray]:\n",
    "        points = points.copy()\n",
    "        permutations = []\n",
    "\n",
    "        cur_dist = cyclic_distance(points, self.dist) # Посчитали первое расстояние от рандомных точек\n",
    "        for i in range(self.max_iterations): # Итерируемся пока итерируется\n",
    "            (i, j), new_dist = self._get_swap(points, cur_dist) # Считаем лучшую перестановку\n",
    "            if new_dist is None: # Если мы пришли на камушек останавливаемся\n",
    "                break\n",
    "            points[[i, j]] = points[[j, i]]\n",
    "            permutations.append(points.copy())\n",
    "            cur_dist = new_dist\n",
    "        print(f\"best score: {cur_dist}\")\n",
    "        return permutations\n",
    "\n",
    "    def _get_swap(self, points: np.ndarray, cur_dist: float) -> Tuple[Tuple[int, int], float]:\n",
    "        n_points = points.shape[0]\n",
    "        best_swap, best_dist = None, None\n",
    "        for i, j in combinations(range(n_points), 2):\n",
    "            if i >= j:\n",
    "                continue\n",
    "            if i == 0 and j == n_points - 1:\n",
    "                i, j = j, i\n",
    "\n",
    "            old_dists = self.dist(points[i], points[(i - 1 + n_points) % n_points]) +\\\n",
    "                        self.dist(points[j], points[(j + 1) % n_points])\n",
    "            new_dists = self.dist(points[i], points[(j + 1) % n_points]) +\\\n",
    "                        self.dist(points[j], points[(i - 1 + n_points) % n_points])\n",
    "\n",
    "            if (j - i + n_points) % n_points > 1:\n",
    "                old_dists += self.dist(points[i], points[(i + 1) % n_points]) +\\\n",
    "                             self.dist(points[j], points[(j - 1 + n_points) % n_points])\n",
    "                new_dists += self.dist(points[i], points[(j - 1 + n_points) % n_points]) +\\\n",
    "                             self.dist(points[j], points[(i + 1) % n_points])\n",
    "\n",
    "            full_dist = cur_dist - old_dists + new_dists\n",
    "            if best_dist is None or best_dist > full_dist:\n",
    "                best_swap, best_dist = (i, j), full_dist\n",
    "\n",
    "        return best_swap, best_dist"
   ],
   "metadata": {
    "collapsed": false,
    "pycharm": {
     "name": "#%%\n"
    }
   }
  },
  {
   "cell_type": "code",
   "execution_count": 27,
   "outputs": [],
   "source": [
    "dist = l1_distance"
   ],
   "metadata": {
    "collapsed": false,
    "pycharm": {
     "name": "#%%\n"
    }
   }
  },
  {
   "cell_type": "code",
   "execution_count": 22,
   "outputs": [
    {
     "data": {
      "text/plain": "array([[1, 1],\n       [1, 4],\n       [5, 1],\n       [4, 5]])"
     },
     "execution_count": 22,
     "metadata": {},
     "output_type": "execute_result"
    }
   ],
   "source": [
    "n_cities, _ = points.shape\n",
    "points"
   ],
   "metadata": {
    "collapsed": false,
    "pycharm": {
     "name": "#%%\n"
    }
   }
  },
  {
   "cell_type": "code",
   "execution_count": 26,
   "outputs": [
    {
     "data": {
      "text/plain": "array([3, 0, 1, 2])"
     },
     "execution_count": 26,
     "metadata": {},
     "output_type": "execute_result"
    }
   ],
   "source": [
    "init_walk = np.arange(n_cities)\n",
    "np.random.shuffle(init_walk)\n",
    "init_walk"
   ],
   "metadata": {
    "collapsed": false,
    "pycharm": {
     "name": "#%%\n"
    }
   }
  },
  {
   "cell_type": "code",
   "execution_count": 33,
   "outputs": [
    {
     "data": {
      "text/plain": "15"
     },
     "execution_count": 33,
     "metadata": {},
     "output_type": "execute_result"
    }
   ],
   "source": [
    "cur_distance = sum([dist(points[i], points[i+1])  for i in range(n_cities-1)])\n",
    "cur_distance"
   ],
   "metadata": {
    "collapsed": false,
    "pycharm": {
     "name": "#%%\n"
    }
   }
  },
  {
   "cell_type": "code",
   "execution_count": 40,
   "outputs": [
    {
     "name": "stdout",
     "output_type": "stream",
     "text": [
      "swap (0, 1) [1 2 0 3] [2 1 0 3]\n",
      "swap (0, 2) [0 1 2 3] [2 1 0 3]\n",
      "swap (0, 3) [3 1 0 2] [2 1 0 3]\n",
      "swap (1, 2) [2 0 1 3] [2 1 0 3]\n",
      "swap (1, 3) [2 3 0 1] [2 1 0 3]\n",
      "swap (2, 3) [2 1 3 0] [2 1 0 3]\n"
     ]
    }
   ],
   "source": [
    "for i in range(n_cities):\n",
    "    for j in range(i + 1, n_cities):\n",
    "        cur_walk = init_walk.copy()\n",
    "        cur_walk[i], cur_walk[j] = init_walk[j], init_walk[i]\n",
    "        print(f\"swap {i, j}\", cur_walk, init_walk)"
   ],
   "metadata": {
    "collapsed": false,
    "pycharm": {
     "name": "#%%\n"
    }
   }
  }
 ],
 "metadata": {
  "kernelspec": {
   "display_name": "Python 3",
   "language": "python",
   "name": "python3"
  },
  "language_info": {
   "codemirror_mode": {
    "name": "ipython",
    "version": 2
   },
   "file_extension": ".py",
   "mimetype": "text/x-python",
   "name": "python",
   "nbconvert_exporter": "python",
   "pygments_lexer": "ipython2",
   "version": "2.7.6"
  }
 },
 "nbformat": 4,
 "nbformat_minor": 0
}